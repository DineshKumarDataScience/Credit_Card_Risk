{
 "cells": [
  {
   "cell_type": "markdown",
   "metadata": {},
   "source": [
    "#   Credit Risk Analyzer with AI \n"
   ]
  },
  {
   "cell_type": "markdown",
   "metadata": {},
   "source": [
    "## Import Libraries\n"
   ]
  },
  {
   "cell_type": "code",
   "execution_count": 2,
   "metadata": {},
   "outputs": [],
   "source": [
    "import pandas as pd\n",
    "import numpy as np\n",
    "from sklearn.model_selection import train_test_split\n",
    "from sklearn.tree import DecisionTreeClassifier\n",
    "import matplotlib.pyplot as plot\n",
    "from sklearn.model_selection import KFold\n",
    "from sklearn.metrics import accuracy_score"
   ]
  },
  {
   "cell_type": "markdown",
   "metadata": {},
   "source": [
    "## Load Data"
   ]
  },
  {
   "cell_type": "code",
   "execution_count": 3,
   "metadata": {},
   "outputs": [],
   "source": [
    "credRisk =\"credit_data.csv\"\n",
    "data = pd.read_csv(credRisk, sep=\",\")"
   ]
  },
  {
   "cell_type": "markdown",
   "metadata": {},
   "source": [
    "## Data Information"
   ]
  },
  {
   "cell_type": "code",
   "execution_count": 5,
   "metadata": {},
   "outputs": [
    {
     "data": {
      "text/html": [
       "<div>\n",
       "<style scoped>\n",
       "    .dataframe tbody tr th:only-of-type {\n",
       "        vertical-align: middle;\n",
       "    }\n",
       "\n",
       "    .dataframe tbody tr th {\n",
       "        vertical-align: top;\n",
       "    }\n",
       "\n",
       "    .dataframe thead th {\n",
       "        text-align: right;\n",
       "    }\n",
       "</style>\n",
       "<table border=\"1\" class=\"dataframe\">\n",
       "  <thead>\n",
       "    <tr style=\"text-align: right;\">\n",
       "      <th></th>\n",
       "      <th>age</th>\n",
       "      <th>gender</th>\n",
       "      <th>education</th>\n",
       "      <th>occupation</th>\n",
       "      <th>organization_type</th>\n",
       "      <th>seniority</th>\n",
       "      <th>annual_income</th>\n",
       "      <th>disposable_income</th>\n",
       "      <th>house_type</th>\n",
       "      <th>vehicle_type</th>\n",
       "      <th>marital_status</th>\n",
       "      <th>no_card</th>\n",
       "      <th>default</th>\n",
       "    </tr>\n",
       "  </thead>\n",
       "  <tbody>\n",
       "    <tr>\n",
       "      <th>0</th>\n",
       "      <td>19</td>\n",
       "      <td>Male</td>\n",
       "      <td>Graduate</td>\n",
       "      <td>Professional</td>\n",
       "      <td>None</td>\n",
       "      <td>None</td>\n",
       "      <td>186319</td>\n",
       "      <td>21625</td>\n",
       "      <td>Family</td>\n",
       "      <td>None</td>\n",
       "      <td>Married</td>\n",
       "      <td>0</td>\n",
       "      <td>1</td>\n",
       "    </tr>\n",
       "    <tr>\n",
       "      <th>1</th>\n",
       "      <td>18</td>\n",
       "      <td>Male</td>\n",
       "      <td>Under Graduate</td>\n",
       "      <td>Professional</td>\n",
       "      <td>None</td>\n",
       "      <td>None</td>\n",
       "      <td>277022</td>\n",
       "      <td>20442</td>\n",
       "      <td>Rented</td>\n",
       "      <td>None</td>\n",
       "      <td>Married</td>\n",
       "      <td>0</td>\n",
       "      <td>1</td>\n",
       "    </tr>\n",
       "    <tr>\n",
       "      <th>2</th>\n",
       "      <td>29</td>\n",
       "      <td>Male</td>\n",
       "      <td>Under Graduate</td>\n",
       "      <td>Salaried</td>\n",
       "      <td>None</td>\n",
       "      <td>Entry</td>\n",
       "      <td>348676</td>\n",
       "      <td>24404</td>\n",
       "      <td>Rented</td>\n",
       "      <td>None</td>\n",
       "      <td>Married</td>\n",
       "      <td>1</td>\n",
       "      <td>1</td>\n",
       "    </tr>\n",
       "    <tr>\n",
       "      <th>3</th>\n",
       "      <td>18</td>\n",
       "      <td>Male</td>\n",
       "      <td>Graduate</td>\n",
       "      <td>Student</td>\n",
       "      <td>None</td>\n",
       "      <td>None</td>\n",
       "      <td>165041</td>\n",
       "      <td>2533</td>\n",
       "      <td>Rented</td>\n",
       "      <td>None</td>\n",
       "      <td>Married</td>\n",
       "      <td>0</td>\n",
       "      <td>1</td>\n",
       "    </tr>\n",
       "    <tr>\n",
       "      <th>4</th>\n",
       "      <td>26</td>\n",
       "      <td>Male</td>\n",
       "      <td>Post Graduate</td>\n",
       "      <td>Salaried</td>\n",
       "      <td>None</td>\n",
       "      <td>Mid-level 1</td>\n",
       "      <td>348745</td>\n",
       "      <td>19321</td>\n",
       "      <td>Rented</td>\n",
       "      <td>None</td>\n",
       "      <td>Married</td>\n",
       "      <td>1</td>\n",
       "      <td>1</td>\n",
       "    </tr>\n",
       "  </tbody>\n",
       "</table>\n",
       "</div>"
      ],
      "text/plain": [
       "   age gender       education    occupation organization_type    seniority  \\\n",
       "0   19   Male        Graduate  Professional              None         None   \n",
       "1   18   Male  Under Graduate  Professional              None         None   \n",
       "2   29   Male  Under Graduate      Salaried              None        Entry   \n",
       "3   18   Male        Graduate       Student              None         None   \n",
       "4   26   Male   Post Graduate      Salaried              None  Mid-level 1   \n",
       "\n",
       "   annual_income  disposable_income house_type vehicle_type marital_status  \\\n",
       "0         186319              21625     Family         None        Married   \n",
       "1         277022              20442     Rented         None        Married   \n",
       "2         348676              24404     Rented         None        Married   \n",
       "3         165041               2533     Rented         None        Married   \n",
       "4         348745              19321     Rented         None        Married   \n",
       "\n",
       "   no_card  default  \n",
       "0        0        1  \n",
       "1        0        1  \n",
       "2        1        1  \n",
       "3        0        1  \n",
       "4        1        1  "
      ]
     },
     "execution_count": 5,
     "metadata": {},
     "output_type": "execute_result"
    }
   ],
   "source": [
    "data.head()"
   ]
  },
  {
   "cell_type": "code",
   "execution_count": 6,
   "metadata": {
    "scrolled": false
   },
   "outputs": [
    {
     "data": {
      "text/html": [
       "<div>\n",
       "<style scoped>\n",
       "    .dataframe tbody tr th:only-of-type {\n",
       "        vertical-align: middle;\n",
       "    }\n",
       "\n",
       "    .dataframe tbody tr th {\n",
       "        vertical-align: top;\n",
       "    }\n",
       "\n",
       "    .dataframe thead th {\n",
       "        text-align: right;\n",
       "    }\n",
       "</style>\n",
       "<table border=\"1\" class=\"dataframe\">\n",
       "  <thead>\n",
       "    <tr style=\"text-align: right;\">\n",
       "      <th></th>\n",
       "      <th>age</th>\n",
       "      <th>annual_income</th>\n",
       "      <th>disposable_income</th>\n",
       "      <th>no_card</th>\n",
       "      <th>default</th>\n",
       "    </tr>\n",
       "  </thead>\n",
       "  <tbody>\n",
       "    <tr>\n",
       "      <th>count</th>\n",
       "      <td>50636.000000</td>\n",
       "      <td>50636.000000</td>\n",
       "      <td>50636.000000</td>\n",
       "      <td>50636.000000</td>\n",
       "      <td>50636.000000</td>\n",
       "    </tr>\n",
       "    <tr>\n",
       "      <th>mean</th>\n",
       "      <td>29.527411</td>\n",
       "      <td>277243.989889</td>\n",
       "      <td>18325.788569</td>\n",
       "      <td>0.509815</td>\n",
       "      <td>0.158425</td>\n",
       "    </tr>\n",
       "    <tr>\n",
       "      <th>std</th>\n",
       "      <td>8.816532</td>\n",
       "      <td>153838.973755</td>\n",
       "      <td>12677.864844</td>\n",
       "      <td>0.669883</td>\n",
       "      <td>0.365142</td>\n",
       "    </tr>\n",
       "    <tr>\n",
       "      <th>min</th>\n",
       "      <td>18.000000</td>\n",
       "      <td>50000.000000</td>\n",
       "      <td>1000.000000</td>\n",
       "      <td>0.000000</td>\n",
       "      <td>0.000000</td>\n",
       "    </tr>\n",
       "    <tr>\n",
       "      <th>25%</th>\n",
       "      <td>25.000000</td>\n",
       "      <td>154052.250000</td>\n",
       "      <td>8317.750000</td>\n",
       "      <td>0.000000</td>\n",
       "      <td>0.000000</td>\n",
       "    </tr>\n",
       "    <tr>\n",
       "      <th>50%</th>\n",
       "      <td>27.000000</td>\n",
       "      <td>258860.500000</td>\n",
       "      <td>15770.000000</td>\n",
       "      <td>0.000000</td>\n",
       "      <td>0.000000</td>\n",
       "    </tr>\n",
       "    <tr>\n",
       "      <th>75%</th>\n",
       "      <td>30.000000</td>\n",
       "      <td>385071.500000</td>\n",
       "      <td>24135.000000</td>\n",
       "      <td>1.000000</td>\n",
       "      <td>0.000000</td>\n",
       "    </tr>\n",
       "    <tr>\n",
       "      <th>max</th>\n",
       "      <td>64.000000</td>\n",
       "      <td>999844.000000</td>\n",
       "      <td>49999.000000</td>\n",
       "      <td>2.000000</td>\n",
       "      <td>1.000000</td>\n",
       "    </tr>\n",
       "  </tbody>\n",
       "</table>\n",
       "</div>"
      ],
      "text/plain": [
       "                age  annual_income  disposable_income       no_card  \\\n",
       "count  50636.000000   50636.000000       50636.000000  50636.000000   \n",
       "mean      29.527411  277243.989889       18325.788569      0.509815   \n",
       "std        8.816532  153838.973755       12677.864844      0.669883   \n",
       "min       18.000000   50000.000000        1000.000000      0.000000   \n",
       "25%       25.000000  154052.250000        8317.750000      0.000000   \n",
       "50%       27.000000  258860.500000       15770.000000      0.000000   \n",
       "75%       30.000000  385071.500000       24135.000000      1.000000   \n",
       "max       64.000000  999844.000000       49999.000000      2.000000   \n",
       "\n",
       "            default  \n",
       "count  50636.000000  \n",
       "mean       0.158425  \n",
       "std        0.365142  \n",
       "min        0.000000  \n",
       "25%        0.000000  \n",
       "50%        0.000000  \n",
       "75%        0.000000  \n",
       "max        1.000000  "
      ]
     },
     "execution_count": 6,
     "metadata": {},
     "output_type": "execute_result"
    }
   ],
   "source": [
    "data.describe()"
   ]
  },
  {
   "cell_type": "code",
   "execution_count": 7,
   "metadata": {},
   "outputs": [
    {
     "name": "stdout",
     "output_type": "stream",
     "text": [
      "<class 'pandas.core.frame.DataFrame'>\n",
      "RangeIndex: 50636 entries, 0 to 50635\n",
      "Data columns (total 13 columns):\n",
      " #   Column             Non-Null Count  Dtype \n",
      "---  ------             --------------  ----- \n",
      " 0   age                50636 non-null  int64 \n",
      " 1   gender             50636 non-null  object\n",
      " 2   education          50636 non-null  object\n",
      " 3   occupation         50636 non-null  object\n",
      " 4   organization_type  50636 non-null  object\n",
      " 5   seniority          50636 non-null  object\n",
      " 6   annual_income      50636 non-null  int64 \n",
      " 7   disposable_income  50636 non-null  int64 \n",
      " 8   house_type         50636 non-null  object\n",
      " 9   vehicle_type       50636 non-null  object\n",
      " 10  marital_status     50636 non-null  object\n",
      " 11  no_card            50636 non-null  int64 \n",
      " 12  default            50636 non-null  int64 \n",
      "dtypes: int64(5), object(8)\n",
      "memory usage: 5.0+ MB\n"
     ]
    }
   ],
   "source": [
    "data.info()"
   ]
  },
  {
   "cell_type": "markdown",
   "metadata": {},
   "source": [
    "## Exploratory Data Analysis\n",
    "### Observations\n",
    "* Column no_card consists of outliers - As no_card is a binary variable, it cannot have 2.\n",
    "* Most of the customers are between 20-30 years age group.\n",
    "* No. of Salaried customers are much higher than other three categories.\n"
   ]
  },
  {
   "cell_type": "code",
   "execution_count": 8,
   "metadata": {
    "scrolled": true
   },
   "outputs": [
    {
     "data": {
      "image/png": "[encoded data removed]",
      "text/plain": [
       "<Figure size 1440x1440 with 13 Axes>"
      ]
     },
     "metadata": {
      "needs_background": "light"
     },
     "output_type": "display_data"
    }
   ],
   "source": [
    "fig = plot.figure(figsize=(20,20))\n",
    "fig.subplots_adjust(hspace=0.5, wspace=0.5)\n",
    "for i, columns in zip(range(1, 14),data.columns):\n",
    "    ax = fig.add_subplot(5, 3, i)\n",
    "    ax.hist(data[columns])\n",
    "    plot.xlabel(columns, fontsize=\"20\")\n",
    "    plot.ylabel('No of Observations', fontsize=\"17\")"
   ]
  },
  {
   "cell_type": "markdown",
   "metadata": {},
   "source": [
    "## Convert Categorical data to Numerical data"
   ]
  },
  {
   "cell_type": "code",
   "execution_count": 10,
   "metadata": {},
   "outputs": [],
   "source": [
    "columns=data[['gender','education','occupation','organization_type','seniority','house_type','vehicle_type','marital_status']]"
   ]
  },
  {
   "cell_type": "code",
   "execution_count": 11,
   "metadata": {
    "scrolled": true
   },
   "outputs": [
    {
     "data": {
      "text/html": [
       "<div>\n",
       "<style scoped>\n",
       "    .dataframe tbody tr th:only-of-type {\n",
       "        vertical-align: middle;\n",
       "    }\n",
       "\n",
       "    .dataframe tbody tr th {\n",
       "        vertical-align: top;\n",
       "    }\n",
       "\n",
       "    .dataframe thead th {\n",
       "        text-align: right;\n",
       "    }\n",
       "</style>\n",
       "<table border=\"1\" class=\"dataframe\">\n",
       "  <thead>\n",
       "    <tr style=\"text-align: right;\">\n",
       "      <th></th>\n",
       "      <th>age</th>\n",
       "      <th>gender</th>\n",
       "      <th>education</th>\n",
       "      <th>occupation</th>\n",
       "      <th>organization_type</th>\n",
       "      <th>seniority</th>\n",
       "      <th>annual_income</th>\n",
       "      <th>disposable_income</th>\n",
       "      <th>house_type</th>\n",
       "      <th>vehicle_type</th>\n",
       "      <th>marital_status</th>\n",
       "      <th>no_card</th>\n",
       "      <th>default</th>\n",
       "    </tr>\n",
       "  </thead>\n",
       "  <tbody>\n",
       "    <tr>\n",
       "      <th>0</th>\n",
       "      <td>19</td>\n",
       "      <td>1</td>\n",
       "      <td>0</td>\n",
       "      <td>1</td>\n",
       "      <td>0</td>\n",
       "      <td>4</td>\n",
       "      <td>186319</td>\n",
       "      <td>21625</td>\n",
       "      <td>1</td>\n",
       "      <td>1</td>\n",
       "      <td>0</td>\n",
       "      <td>0</td>\n",
       "      <td>1</td>\n",
       "    </tr>\n",
       "    <tr>\n",
       "      <th>1</th>\n",
       "      <td>18</td>\n",
       "      <td>1</td>\n",
       "      <td>3</td>\n",
       "      <td>1</td>\n",
       "      <td>0</td>\n",
       "      <td>4</td>\n",
       "      <td>277022</td>\n",
       "      <td>20442</td>\n",
       "      <td>3</td>\n",
       "      <td>1</td>\n",
       "      <td>0</td>\n",
       "      <td>0</td>\n",
       "      <td>1</td>\n",
       "    </tr>\n",
       "    <tr>\n",
       "      <th>2</th>\n",
       "      <td>29</td>\n",
       "      <td>1</td>\n",
       "      <td>3</td>\n",
       "      <td>2</td>\n",
       "      <td>0</td>\n",
       "      <td>0</td>\n",
       "      <td>348676</td>\n",
       "      <td>24404</td>\n",
       "      <td>3</td>\n",
       "      <td>1</td>\n",
       "      <td>0</td>\n",
       "      <td>1</td>\n",
       "      <td>1</td>\n",
       "    </tr>\n",
       "    <tr>\n",
       "      <th>3</th>\n",
       "      <td>18</td>\n",
       "      <td>1</td>\n",
       "      <td>0</td>\n",
       "      <td>3</td>\n",
       "      <td>0</td>\n",
       "      <td>4</td>\n",
       "      <td>165041</td>\n",
       "      <td>2533</td>\n",
       "      <td>3</td>\n",
       "      <td>1</td>\n",
       "      <td>0</td>\n",
       "      <td>0</td>\n",
       "      <td>1</td>\n",
       "    </tr>\n",
       "    <tr>\n",
       "      <th>4</th>\n",
       "      <td>26</td>\n",
       "      <td>1</td>\n",
       "      <td>2</td>\n",
       "      <td>2</td>\n",
       "      <td>0</td>\n",
       "      <td>2</td>\n",
       "      <td>348745</td>\n",
       "      <td>19321</td>\n",
       "      <td>3</td>\n",
       "      <td>1</td>\n",
       "      <td>0</td>\n",
       "      <td>1</td>\n",
       "      <td>1</td>\n",
       "    </tr>\n",
       "  </tbody>\n",
       "</table>\n",
       "</div>"
      ],
      "text/plain": [
       "   age  gender  education  occupation  organization_type  seniority  \\\n",
       "0   19       1          0           1                  0          4   \n",
       "1   18       1          3           1                  0          4   \n",
       "2   29       1          3           2                  0          0   \n",
       "3   18       1          0           3                  0          4   \n",
       "4   26       1          2           2                  0          2   \n",
       "\n",
       "   annual_income  disposable_income  house_type  vehicle_type  marital_status  \\\n",
       "0         186319              21625           1             1               0   \n",
       "1         277022              20442           3             1               0   \n",
       "2         348676              24404           3             1               0   \n",
       "3         165041               2533           3             1               0   \n",
       "4         348745              19321           3             1               0   \n",
       "\n",
       "   no_card  default  \n",
       "0        0        1  \n",
       "1        0        1  \n",
       "2        1        1  \n",
       "3        0        1  \n",
       "4        1        1  "
      ]
     },
     "execution_count": 11,
     "metadata": {},
     "output_type": "execute_result"
    }
   ],
   "source": [
    "def Cat_conversion(cols):\n",
    "    for i in cols:\n",
    "        data[i]=data[i].astype(\"category\").cat.codes\n",
    "Cat_conversion(columns)\n",
    "data.head()"
   ]
  },
  {
   "cell_type": "markdown",
   "metadata": {},
   "source": [
    "# Split data using train_test_split Method\n",
    "\n",
    "![title](https://d2h0cx97tjks2p.cloudfront.net/blogs/wp-content/uploads/sites/2/2018/08/1-16.png)"
   ]
  },
  {
   "cell_type": "code",
   "execution_count": 12,
   "metadata": {},
   "outputs": [],
   "source": [
    "data_train,data_test=train_test_split(data,test_size=0.3,random_state=1)"
   ]
  },
  {
   "cell_type": "code",
   "execution_count": 13,
   "metadata": {},
   "outputs": [],
   "source": [
    "x_train=data_train[['age', 'gender', 'education', 'occupation', 'organization_type','seniority', 'annual_income', 'disposable_income', 'house_type','vehicle_type', 'marital_status', 'no_card']]\n",
    "x_test=data_test[['age', 'gender', 'education', 'occupation', 'organization_type','seniority', 'annual_income', 'disposable_income', 'house_type','vehicle_type', 'marital_status', 'no_card']]\n",
    "\n",
    "y_train=data_train['default']\n",
    "y_test=data_test['default']"
   ]
  },
  {
   "cell_type": "markdown",
   "metadata": {},
   "source": [
    "## Create Decision Tree Model (Entropy Criterion)"
   ]
  },
  {
   "cell_type": "code",
   "execution_count": 14,
   "metadata": {},
   "outputs": [],
   "source": [
    "dtree=DecisionTreeClassifier(criterion='entropy',random_state=0\n",
    "                             ,min_samples_leaf=10\n",
    "                            ,min_samples_split=10)"
   ]
  },
  {
   "cell_type": "markdown",
   "metadata": {},
   "source": [
    "## Create Decision Tree Model (Gini Criterion)"
   ]
  },
  {
   "cell_type": "code",
   "execution_count": 15,
   "metadata": {},
   "outputs": [],
   "source": [
    "dtree.gini=DecisionTreeClassifier(criterion='gini',random_state=0\n",
    "                             ,min_samples_leaf=10\n",
    "                            ,min_samples_split=10)"
   ]
  },
  {
   "cell_type": "markdown",
   "metadata": {},
   "source": [
    "## Train Decision Tree Model (Entropy Criterion)"
   ]
  },
  {
   "cell_type": "code",
   "execution_count": 16,
   "metadata": {
    "scrolled": true
   },
   "outputs": [
    {
     "data": {
      "text/plain": [
       "DecisionTreeClassifier(criterion='entropy', min_samples_leaf=10,\n",
       "                       min_samples_split=10, random_state=0)"
      ]
     },
     "execution_count": 16,
     "metadata": {},
     "output_type": "execute_result"
    }
   ],
   "source": [
    "dtree.fit(x_train,y_train)"
   ]
  },
  {
   "cell_type": "code",
   "execution_count": 17,
   "metadata": {},
   "outputs": [
    {
     "data": {
      "text/plain": [
       "array([0, 0, 0, ..., 0, 0, 0], dtype=int64)"
      ]
     },
     "execution_count": 17,
     "metadata": {},
     "output_type": "execute_result"
    }
   ],
   "source": [
    "y_pred_entropy=dtree.predict(x_test)\n",
    "y_pred_entropy"
   ]
  },
  {
   "cell_type": "code",
   "execution_count": 26,
   "metadata": {},
   "outputs": [
    {
     "name": "stdout",
     "output_type": "stream",
     "text": [
      "Accuracy: 85.08\n"
     ]
    }
   ],
   "source": [
    "Score_entropy=accuracy_score(y_test,y_pred_entropy)\n",
    "print(\"Accuracy: %0.2f\" % (round(Score_entropy*100,2)))"
   ]
  },
  {
   "cell_type": "markdown",
   "metadata": {},
   "source": [
    "## Train Decision Tree Model (Gini Criterion)"
   ]
  },
  {
   "cell_type": "code",
   "execution_count": 19,
   "metadata": {},
   "outputs": [
    {
     "data": {
      "text/plain": [
       "DecisionTreeClassifier(min_samples_leaf=10, min_samples_split=10,\n",
       "                       random_state=0)"
      ]
     },
     "execution_count": 19,
     "metadata": {},
     "output_type": "execute_result"
    }
   ],
   "source": [
    "dtree.gini.fit(x_train,y_train)"
   ]
  },
  {
   "cell_type": "code",
   "execution_count": 20,
   "metadata": {},
   "outputs": [
    {
     "data": {
      "text/plain": [
       "array([0, 0, 0, ..., 0, 0, 0], dtype=int64)"
      ]
     },
     "execution_count": 20,
     "metadata": {},
     "output_type": "execute_result"
    }
   ],
   "source": [
    "y_pred_gini=dtree.gini.predict(x_test)\n",
    "y_pred_gini"
   ]
  },
  {
   "cell_type": "code",
   "execution_count": 27,
   "metadata": {},
   "outputs": [
    {
     "ename": "ValueError",
     "evalue": "Found input variables with inconsistent numbers of samples: [12659, 15191]",
     "output_type": "error",
     "traceback": [
      "\u001b[1;31m---------------------------------------------------------------------------\u001b[0m",
      "\u001b[1;31mValueError\u001b[0m                                Traceback (most recent call last)",
      "\u001b[1;32mC:\\Users\\DINESH~1\\AppData\\Local\\Temp/ipykernel_15784/4127259346.py\u001b[0m in \u001b[0;36m<module>\u001b[1;34m\u001b[0m\n\u001b[1;32m----> 1\u001b[1;33m \u001b[0mScore_gini\u001b[0m\u001b[1;33m=\u001b[0m\u001b[0maccuracy_score\u001b[0m\u001b[1;33m(\u001b[0m\u001b[0my_test\u001b[0m\u001b[1;33m,\u001b[0m\u001b[0my_pred_gini\u001b[0m\u001b[1;33m)\u001b[0m\u001b[1;33m\u001b[0m\u001b[1;33m\u001b[0m\u001b[0m\n\u001b[0m\u001b[0;32m      2\u001b[0m \u001b[0mprint\u001b[0m\u001b[1;33m(\u001b[0m\u001b[1;34m\"Accuracy: %0.2f\"\u001b[0m \u001b[1;33m%\u001b[0m \u001b[1;33m(\u001b[0m\u001b[0mround\u001b[0m\u001b[1;33m(\u001b[0m\u001b[0mScore_gini\u001b[0m\u001b[1;33m*\u001b[0m\u001b[1;36m100\u001b[0m\u001b[1;33m,\u001b[0m\u001b[1;36m2\u001b[0m\u001b[1;33m)\u001b[0m\u001b[1;33m)\u001b[0m\u001b[1;33m)\u001b[0m\u001b[1;33m\u001b[0m\u001b[1;33m\u001b[0m\u001b[0m\n",
      "\u001b[1;32m~\\anaconda3\\lib\\site-packages\\sklearn\\utils\\validation.py\u001b[0m in \u001b[0;36minner_f\u001b[1;34m(*args, **kwargs)\u001b[0m\n\u001b[0;32m     61\u001b[0m             \u001b[0mextra_args\u001b[0m \u001b[1;33m=\u001b[0m \u001b[0mlen\u001b[0m\u001b[1;33m(\u001b[0m\u001b[0margs\u001b[0m\u001b[1;33m)\u001b[0m \u001b[1;33m-\u001b[0m \u001b[0mlen\u001b[0m\u001b[1;33m(\u001b[0m\u001b[0mall_args\u001b[0m\u001b[1;33m)\u001b[0m\u001b[1;33m\u001b[0m\u001b[1;33m\u001b[0m\u001b[0m\n\u001b[0;32m     62\u001b[0m             \u001b[1;32mif\u001b[0m \u001b[0mextra_args\u001b[0m \u001b[1;33m<=\u001b[0m \u001b[1;36m0\u001b[0m\u001b[1;33m:\u001b[0m\u001b[1;33m\u001b[0m\u001b[1;33m\u001b[0m\u001b[0m\n\u001b[1;32m---> 63\u001b[1;33m                 \u001b[1;32mreturn\u001b[0m \u001b[0mf\u001b[0m\u001b[1;33m(\u001b[0m\u001b[1;33m*\u001b[0m\u001b[0margs\u001b[0m\u001b[1;33m,\u001b[0m \u001b[1;33m**\u001b[0m\u001b[0mkwargs\u001b[0m\u001b[1;33m)\u001b[0m\u001b[1;33m\u001b[0m\u001b[1;33m\u001b[0m\u001b[0m\n\u001b[0m\u001b[0;32m     64\u001b[0m \u001b[1;33m\u001b[0m\u001b[0m\n\u001b[0;32m     65\u001b[0m             \u001b[1;31m# extra_args > 0\u001b[0m\u001b[1;33m\u001b[0m\u001b[1;33m\u001b[0m\u001b[0m\n",
      "\u001b[1;32m~\\anaconda3\\lib\\site-packages\\sklearn\\metrics\\_classification.py\u001b[0m in \u001b[0;36maccuracy_score\u001b[1;34m(y_true, y_pred, normalize, sample_weight)\u001b[0m\n\u001b[0;32m    200\u001b[0m \u001b[1;33m\u001b[0m\u001b[0m\n\u001b[0;32m    201\u001b[0m     \u001b[1;31m# Compute accuracy for each possible representation\u001b[0m\u001b[1;33m\u001b[0m\u001b[1;33m\u001b[0m\u001b[0m\n\u001b[1;32m--> 202\u001b[1;33m     \u001b[0my_type\u001b[0m\u001b[1;33m,\u001b[0m \u001b[0my_true\u001b[0m\u001b[1;33m,\u001b[0m \u001b[0my_pred\u001b[0m \u001b[1;33m=\u001b[0m \u001b[0m_check_targets\u001b[0m\u001b[1;33m(\u001b[0m\u001b[0my_true\u001b[0m\u001b[1;33m,\u001b[0m \u001b[0my_pred\u001b[0m\u001b[1;33m)\u001b[0m\u001b[1;33m\u001b[0m\u001b[1;33m\u001b[0m\u001b[0m\n\u001b[0m\u001b[0;32m    203\u001b[0m     \u001b[0mcheck_consistent_length\u001b[0m\u001b[1;33m(\u001b[0m\u001b[0my_true\u001b[0m\u001b[1;33m,\u001b[0m \u001b[0my_pred\u001b[0m\u001b[1;33m,\u001b[0m \u001b[0msample_weight\u001b[0m\u001b[1;33m)\u001b[0m\u001b[1;33m\u001b[0m\u001b[1;33m\u001b[0m\u001b[0m\n\u001b[0;32m    204\u001b[0m     \u001b[1;32mif\u001b[0m \u001b[0my_type\u001b[0m\u001b[1;33m.\u001b[0m\u001b[0mstartswith\u001b[0m\u001b[1;33m(\u001b[0m\u001b[1;34m'multilabel'\u001b[0m\u001b[1;33m)\u001b[0m\u001b[1;33m:\u001b[0m\u001b[1;33m\u001b[0m\u001b[1;33m\u001b[0m\u001b[0m\n",
      "\u001b[1;32m~\\anaconda3\\lib\\site-packages\\sklearn\\metrics\\_classification.py\u001b[0m in \u001b[0;36m_check_targets\u001b[1;34m(y_true, y_pred)\u001b[0m\n\u001b[0;32m     81\u001b[0m     \u001b[0my_pred\u001b[0m \u001b[1;33m:\u001b[0m \u001b[0marray\u001b[0m \u001b[1;32mor\u001b[0m \u001b[0mindicator\u001b[0m \u001b[0mmatrix\u001b[0m\u001b[1;33m\u001b[0m\u001b[1;33m\u001b[0m\u001b[0m\n\u001b[0;32m     82\u001b[0m     \"\"\"\n\u001b[1;32m---> 83\u001b[1;33m     \u001b[0mcheck_consistent_length\u001b[0m\u001b[1;33m(\u001b[0m\u001b[0my_true\u001b[0m\u001b[1;33m,\u001b[0m \u001b[0my_pred\u001b[0m\u001b[1;33m)\u001b[0m\u001b[1;33m\u001b[0m\u001b[1;33m\u001b[0m\u001b[0m\n\u001b[0m\u001b[0;32m     84\u001b[0m     \u001b[0mtype_true\u001b[0m \u001b[1;33m=\u001b[0m \u001b[0mtype_of_target\u001b[0m\u001b[1;33m(\u001b[0m\u001b[0my_true\u001b[0m\u001b[1;33m)\u001b[0m\u001b[1;33m\u001b[0m\u001b[1;33m\u001b[0m\u001b[0m\n\u001b[0;32m     85\u001b[0m     \u001b[0mtype_pred\u001b[0m \u001b[1;33m=\u001b[0m \u001b[0mtype_of_target\u001b[0m\u001b[1;33m(\u001b[0m\u001b[0my_pred\u001b[0m\u001b[1;33m)\u001b[0m\u001b[1;33m\u001b[0m\u001b[1;33m\u001b[0m\u001b[0m\n",
      "\u001b[1;32m~\\anaconda3\\lib\\site-packages\\sklearn\\utils\\validation.py\u001b[0m in \u001b[0;36mcheck_consistent_length\u001b[1;34m(*arrays)\u001b[0m\n\u001b[0;32m    317\u001b[0m     \u001b[0muniques\u001b[0m \u001b[1;33m=\u001b[0m \u001b[0mnp\u001b[0m\u001b[1;33m.\u001b[0m\u001b[0munique\u001b[0m\u001b[1;33m(\u001b[0m\u001b[0mlengths\u001b[0m\u001b[1;33m)\u001b[0m\u001b[1;33m\u001b[0m\u001b[1;33m\u001b[0m\u001b[0m\n\u001b[0;32m    318\u001b[0m     \u001b[1;32mif\u001b[0m \u001b[0mlen\u001b[0m\u001b[1;33m(\u001b[0m\u001b[0muniques\u001b[0m\u001b[1;33m)\u001b[0m \u001b[1;33m>\u001b[0m \u001b[1;36m1\u001b[0m\u001b[1;33m:\u001b[0m\u001b[1;33m\u001b[0m\u001b[1;33m\u001b[0m\u001b[0m\n\u001b[1;32m--> 319\u001b[1;33m         raise ValueError(\"Found input variables with inconsistent numbers of\"\n\u001b[0m\u001b[0;32m    320\u001b[0m                          \" samples: %r\" % [int(l) for l in lengths])\n\u001b[0;32m    321\u001b[0m \u001b[1;33m\u001b[0m\u001b[0m\n",
      "\u001b[1;31mValueError\u001b[0m: Found input variables with inconsistent numbers of samples: [12659, 15191]"
     ]
    }
   ],
   "source": [
    "Score_gini=accuracy_score(y_test,y_pred_gini)\n",
    "print(\"Accuracy: %0.2f\" % (round(Score_gini*100,2)))"
   ]
  },
  {
   "cell_type": "markdown",
   "metadata": {},
   "source": [
    "## K-Fold Cross Validation\n",
    "![title](https://miro.medium.com/max/1886/1*IjKy-Zc9zVOHFzMw2GXaQw.png)"
   ]
  },
  {
   "cell_type": "markdown",
   "metadata": {},
   "source": [
    "## Train Decision Tree Model using K-Fold Method (Entropy Criterion)\n",
    "* K-Fold (4-Fold) Cross validation to attain high accuracy\n",
    "* Predict data for every fold\n",
    "* Picking average of scores"
   ]
  },
  {
   "cell_type": "code",
   "execution_count": 22,
   "metadata": {},
   "outputs": [],
   "source": [
    "Score_entropy = []\n",
    "kfold= KFold(n_splits=4, random_state=1, shuffle=True)\n",
    "for train, test in kfold.split(data):\n",
    "    data_train, data_test = data.iloc[train], data.iloc[test]\n",
    "    \n",
    "    x_train=data_train[['age', 'gender', 'education', 'occupation', 'organization_type','seniority', 'annual_income', 'disposable_income', 'house_type','vehicle_type', 'marital_status', 'no_card']]\n",
    "    x_test=data_test[['age', 'gender', 'education', 'occupation', 'organization_type','seniority', 'annual_income', 'disposable_income', 'house_type','vehicle_type', 'marital_status', 'no_card']]\n",
    "\n",
    "    y_train=data_train['default']\n",
    "    y_test=data_test['default']\n",
    "    \n",
    "    dtree.fit(x_train,y_train)\n",
    "    y_pred_entropy=dtree.predict(x_test)\n",
    "    \n",
    "    Score_entropy.append(accuracy_score(y_test,y_pred_entropy))\n",
    "    "
   ]
  },
  {
   "cell_type": "code",
   "execution_count": 23,
   "metadata": {},
   "outputs": [
    {
     "name": "stdout",
     "output_type": "stream",
     "text": [
      "Accuracy: 84.29 (+/- 0.003)\n"
     ]
    }
   ],
   "source": [
    "print(\"Accuracy: %0.2f (+/- %0.3f)\" % (round(np.mean(Score_entropy)*100,2), np.std(Score_entropy*2)))"
   ]
  },
  {
   "cell_type": "markdown",
   "metadata": {},
   "source": [
    "## Train Decision Tree Model (Gini Criterion)\n",
    "* K-Fold (4-Fold) Cross validation to attain high accuracy\n",
    "* Predict data for every fold\n",
    "* Picking average of scores"
   ]
  },
  {
   "cell_type": "code",
   "execution_count": 24,
   "metadata": {},
   "outputs": [],
   "source": [
    "Score_gini = []\n",
    "final_x_train = []\n",
    "final_y_train = []\n",
    "kfold= KFold(n_splits=4, random_state=1, shuffle=True)\n",
    "for train, test in kfold.split(data):\n",
    "    data_train, data_test = data.iloc[train], data.iloc[test]\n",
    "    \n",
    "    x_train=data_train[['age', 'gender', 'education', 'occupation', 'organization_type','seniority', 'annual_income', 'disposable_income', 'house_type','vehicle_type', 'marital_status', 'no_card']]\n",
    "    x_test=data_test[['age', 'gender', 'education', 'occupation', 'organization_type','seniority', 'annual_income', 'disposable_income', 'house_type','vehicle_type', 'marital_status', 'no_card']]\n",
    "\n",
    "    y_train=data_train['default']\n",
    "    y_test=data_test['default']\n",
    "    \n",
    "    dtree.gini.fit(x_train,y_train)\n",
    "    y_pred_entropy=dtree.gini.predict(x_test)\n",
    "    \n",
    "    Score_gini.append(accuracy_score(y_test,y_pred_entropy))\n",
    "    if Score_gini[len(Score_gini)-1] > Score_gini[len(Score_gini)-2]:\n",
    "        final_x_train = x_train\n",
    "        final_y_train = y_train\n",
    "    "
   ]
  },
  {
   "cell_type": "code",
   "execution_count": 25,
   "metadata": {
    "scrolled": true
   },
   "outputs": [
    {
     "name": "stdout",
     "output_type": "stream",
     "text": [
      "Accuracy: 84.46 (+/- 0.004)\n"
     ]
    }
   ],
   "source": [
    "print(\"Accuracy: %0.2f (+/- %0.3f)\" % (round(np.mean(Score_gini)*100,2), np.std(Score_gini*2)))"
   ]
  },
  {
   "cell_type": "markdown",
   "metadata": {},
   "source": [
    "  #    Summary <br>\n",
    "*  84.46%   (Gini Criterion with K-Fold)\n",
    "*  84.29% (Entropy Criterion with K-Fold)\n",
    "*  84.08%   (Gini Criterion with train_test_split)\n",
    "*  83.92%   (Entropy Criterion with train_test_split)"
   ]
  }
 ],
 "metadata": {
  "kernelspec": {
   "display_name": "Python 3 (ipykernel)",
   "language": "python",
   "name": "python3"
  },
  "language_info": {
   "codemirror_mode": {
    "name": "ipython",
    "version": 3
   },
   "file_extension": ".py",
   "mimetype": "text/x-python",
   "name": "python",
   "nbconvert_exporter": "python",
   "pygments_lexer": "ipython3",
   "version": "3.9.7"
  }
 },
 "nbformat": 4,
 "nbformat_minor": 2
}
